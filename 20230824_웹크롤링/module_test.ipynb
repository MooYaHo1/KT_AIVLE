{
 "cells": [
  {
   "cell_type": "code",
   "execution_count": 1,
   "id": "754fecd8-be13-476a-b224-8c75cab5f5cc",
   "metadata": {
    "tags": []
   },
   "outputs": [
    {
     "name": "stdout",
     "output_type": "stream",
     "text": [
      " C 드라이브의 볼륨: WINDOWS\n",
      " 볼륨 일련 번호: 1CE2-C115\n",
      "\n",
      " C:\\Users\\user\\Web_Crawling\\day1 디렉터리\n",
      "\n",
      "2023-08-24  오후 05:00             1,092 zigbang.py\n",
      "               1개 파일               1,092 바이트\n",
      "               0개 디렉터리  169,890,979,840 바이트 남음\n"
     ]
    }
   ],
   "source": [
    "%ls zigbang.py"
   ]
  },
  {
   "cell_type": "code",
   "execution_count": 2,
   "id": "f0b4db2b-ad38-411c-81b3-0b8d08e2b340",
   "metadata": {
    "tags": []
   },
   "outputs": [],
   "source": [
    "import zigbang as zb"
   ]
  },
  {
   "cell_type": "code",
   "execution_count": 3,
   "id": "ec5384a2-37ec-4c7c-a365-da4fb497ab9b",
   "metadata": {
    "tags": []
   },
   "outputs": [
    {
     "data": {
      "text/html": [
       "<div>\n",
       "<style scoped>\n",
       "    .dataframe tbody tr th:only-of-type {\n",
       "        vertical-align: middle;\n",
       "    }\n",
       "\n",
       "    .dataframe tbody tr th {\n",
       "        vertical-align: top;\n",
       "    }\n",
       "\n",
       "    .dataframe thead th {\n",
       "        text-align: right;\n",
       "    }\n",
       "</style>\n",
       "<table border=\"1\" class=\"dataframe\">\n",
       "  <thead>\n",
       "    <tr style=\"text-align: right;\">\n",
       "      <th></th>\n",
       "      <th>item_id</th>\n",
       "      <th>title</th>\n",
       "      <th>deposit</th>\n",
       "      <th>rent</th>\n",
       "      <th>address1</th>\n",
       "      <th>size_m2</th>\n",
       "      <th>manage_cost</th>\n",
       "    </tr>\n",
       "  </thead>\n",
       "  <tbody>\n",
       "    <tr>\n",
       "      <th>57</th>\n",
       "      <td>37804362</td>\n",
       "      <td>신축급즉시입주깔끔원룸 주차가능</td>\n",
       "      <td>300</td>\n",
       "      <td>72</td>\n",
       "      <td>서울시 마포구 망원동</td>\n",
       "      <td>19.83</td>\n",
       "      <td>7</td>\n",
       "    </tr>\n",
       "    <tr>\n",
       "      <th>58</th>\n",
       "      <td>37811722</td>\n",
       "      <td>리모델링후 첫입주 쓰리룸월세 풀옵션</td>\n",
       "      <td>2000</td>\n",
       "      <td>110</td>\n",
       "      <td>서울시 마포구 망원동</td>\n",
       "      <td>48.00</td>\n",
       "      <td>1</td>\n",
       "    </tr>\n",
       "  </tbody>\n",
       "</table>\n",
       "</div>"
      ],
      "text/plain": [
       "     item_id                title  deposit  rent     address1  size_m2  \\\n",
       "57  37804362     신축급즉시입주깔끔원룸 주차가능      300    72  서울시 마포구 망원동    19.83   \n",
       "58  37811722  리모델링후 첫입주 쓰리룸월세 풀옵션     2000   110  서울시 마포구 망원동    48.00   \n",
       "\n",
       "   manage_cost  \n",
       "57           7  \n",
       "58           1  "
      ]
     },
     "execution_count": 3,
     "metadata": {},
     "output_type": "execute_result"
    }
   ],
   "source": [
    "df = zb.oneroom('망원동')\n",
    "df.tail(2)"
   ]
  },
  {
   "cell_type": "code",
   "execution_count": 6,
   "id": "2761a3f4-51a1-4360-8dd0-d31598bb6a26",
   "metadata": {
    "tags": []
   },
   "outputs": [
    {
     "name": "stdout",
     "output_type": "stream",
     "text": [
      "[1, 2, 3] [1, 2, 3] [1, 2, 3]\n",
      "[1, 4, 3] [1, 4, 3] [1, 2, 3]\n"
     ]
    }
   ],
   "source": [
    "# 얕은 복사, 깊은 복사\n",
    "d1 = [1,2,3]\n",
    "d2 = d1 # 얕은 복사 : 주소값 복사\n",
    "d3 = d1.copy() # 깊은 복사 : 데이터 복사\n",
    "print(d1,d2,d3)\n",
    "d1[1] = 4\n",
    "print(d1,d2,d3)"
   ]
  },
  {
   "cell_type": "code",
   "execution_count": 7,
   "id": "55570058-bc2f-425e-bdc6-e91f77950667",
   "metadata": {
    "tags": []
   },
   "outputs": [
    {
     "data": {
      "text/plain": [
       "(2185477466752, 2185477466752, 2185517335808)"
      ]
     },
     "execution_count": 7,
     "metadata": {},
     "output_type": "execute_result"
    }
   ],
   "source": [
    "id(d1), id(d2), id(d3)"
   ]
  },
  {
   "cell_type": "code",
   "execution_count": null,
   "id": "6e2ea0cd-0094-4bea-a508-dd0da9060b85",
   "metadata": {},
   "outputs": [],
   "source": []
  }
 ],
 "metadata": {
  "kernelspec": {
   "display_name": "Python 3 (ipykernel)",
   "language": "python",
   "name": "python3"
  },
  "language_info": {
   "codemirror_mode": {
    "name": "ipython",
    "version": 3
   },
   "file_extension": ".py",
   "mimetype": "text/x-python",
   "name": "python",
   "nbconvert_exporter": "python",
   "pygments_lexer": "ipython3",
   "version": "3.11.3"
  }
 },
 "nbformat": 4,
 "nbformat_minor": 5
}
