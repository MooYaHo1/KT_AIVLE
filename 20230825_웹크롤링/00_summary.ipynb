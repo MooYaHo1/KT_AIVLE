{
 "cells": [
  {
   "cell_type": "code",
   "execution_count": null,
   "id": "226e940a-fb6a-45f8-be15-63f548a1fcc8",
   "metadata": {},
   "outputs": [],
   "source": [
    "# summary\n",
    "# class \n",
    "# - 변수, 함수를 묶어서 코드 작성 실행\n",
    "# - 객체지향 구현\n",
    "# - 클래스선언(코드작성) > 객체생성(메모리사용) > 메서트 실행(코드실행)\n",
    "# - 식별자 컨벤션 : PscalCase\n",
    "# - class, self, __init__()\n",
    "# "
   ]
  },
  {
   "cell_type": "code",
   "execution_count": 10,
   "id": "6a972faf-6f69-4e07-9026-ca748fc35c71",
   "metadata": {
    "tags": []
   },
   "outputs": [],
   "source": [
    "# 클래스 선언 : 코드작성\n",
    "# 스타크래프트 : Marine : health=40, ap=5, attack(target)\n",
    "class Marine:\n",
    "    \n",
    "    def __init__(self, health=40, ap=5):\n",
    "        self.health = health\n",
    "        self.ap = ap\n",
    "    \n",
    "    def attack(self, target):\n",
    "        target.health -= self.ap\n",
    "        if target.health < 0:\n",
    "            target.health = 0\n",
    "    \n",
    "    "
   ]
  },
  {
   "cell_type": "code",
   "execution_count": 11,
   "id": "3ec13f74-5f87-4489-9b71-81f6011a9074",
   "metadata": {
    "tags": []
   },
   "outputs": [
    {
     "data": {
      "text/plain": [
       "(40, 5, 60, 7)"
      ]
     },
     "execution_count": 11,
     "metadata": {},
     "output_type": "execute_result"
    }
   ],
   "source": [
    "# 객체생성 : 메모리 사용\n",
    "m1 = Marine()\n",
    "m2 = Marine(60, 7)\n",
    "m1.health, m1.ap, m2.health, m2.ap"
   ]
  },
  {
   "cell_type": "code",
   "execution_count": 12,
   "id": "e7e55b0a-6743-46af-88d5-f1f06c5e48d5",
   "metadata": {
    "tags": []
   },
   "outputs": [
    {
     "data": {
      "text/plain": [
       "(33, 5, 55, 7)"
      ]
     },
     "execution_count": 12,
     "metadata": {},
     "output_type": "execute_result"
    }
   ],
   "source": [
    "# 메서스 실행 : 코드실행\n",
    "m1.attack(m2)\n",
    "m2.attack(m1)\n",
    "m1.health, m1.ap, m2.health, m2.ap"
   ]
  },
  {
   "cell_type": "code",
   "execution_count": 13,
   "id": "d9dca306-c63c-43b1-be87-65d9b585c2e0",
   "metadata": {
    "tags": []
   },
   "outputs": [
    {
     "data": {
      "text/plain": [
       "(0, 5, 55, 7)"
      ]
     },
     "execution_count": 13,
     "metadata": {},
     "output_type": "execute_result"
    }
   ],
   "source": [
    "for _ in range(5):\n",
    "    m2.attack(m1)\n",
    "m1.health, m1.ap, m2.health, m2.ap"
   ]
  },
  {
   "cell_type": "code",
   "execution_count": 14,
   "id": "da43155e-9d32-4143-806d-3b6573528497",
   "metadata": {
    "tags": []
   },
   "outputs": [],
   "source": [
    "def echo(n1, n2): \n",
    "    return n1, n2"
   ]
  },
  {
   "cell_type": "code",
   "execution_count": 15,
   "id": "64ab0def-9970-4e16-b5d1-af6838c7e33f",
   "metadata": {
    "tags": []
   },
   "outputs": [
    {
     "data": {
      "text/plain": [
       "(tuple, (1, 2))"
      ]
     },
     "execution_count": 15,
     "metadata": {},
     "output_type": "execute_result"
    }
   ],
   "source": [
    "data = echo(1, 2) \n",
    "type(data), data"
   ]
  },
  {
   "cell_type": "code",
   "execution_count": 16,
   "id": "99a66147-a703-4a0b-8f80-207a946aaf67",
   "metadata": {
    "tags": []
   },
   "outputs": [],
   "source": [
    "# 선언시 () 생략 가능 : 여러개의 변수로 데이터를 받을수 있음 \n",
    "d1, d2 = 1, 2"
   ]
  },
  {
   "cell_type": "code",
   "execution_count": 17,
   "id": "a9c74845-9126-4b17-9734-7e761b4a495b",
   "metadata": {
    "tags": []
   },
   "outputs": [
    {
     "name": "stdout",
     "output_type": "stream",
     "text": [
      "1 2\n"
     ]
    }
   ],
   "source": [
    "d1, _ = echo(1, 2) \n",
    "print(d1, d2)"
   ]
  },
  {
   "cell_type": "code",
   "execution_count": null,
   "id": "aeda8ebb-1017-4d95-b038-905236334f8b",
   "metadata": {},
   "outputs": [],
   "source": []
  }
 ],
 "metadata": {
  "kernelspec": {
   "display_name": "Python 3 (ipykernel)",
   "language": "python",
   "name": "python3"
  },
  "language_info": {
   "codemirror_mode": {
    "name": "ipython",
    "version": 3
   },
   "file_extension": ".py",
   "mimetype": "text/x-python",
   "name": "python",
   "nbconvert_exporter": "python",
   "pygments_lexer": "ipython3",
   "version": "3.11.3"
  }
 },
 "nbformat": 4,
 "nbformat_minor": 5
}
