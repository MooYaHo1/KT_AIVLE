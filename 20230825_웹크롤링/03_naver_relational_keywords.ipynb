{
 "cells": [
  {
   "cell_type": "markdown",
   "id": "2f46af77",
   "metadata": {},
   "source": [
    "### 네이버 연관 검색어 수집\n",
    "- 정적(static) 웹페이지 데이터 수집 \n",
    "- BeautifulSoup을 이용하여 HTML 문자열 데이터 parsing"
   ]
  },
  {
   "cell_type": "code",
   "execution_count": 1,
   "id": "813c0b1e-2203-4d7d-9a1d-0504e5df16a6",
   "metadata": {
    "tags": []
   },
   "outputs": [],
   "source": [
    "import pandas as pd\n",
    "import requests\n",
    "from bs4 import BeautifulSoup"
   ]
  },
  {
   "cell_type": "markdown",
   "id": "16030538",
   "metadata": {
    "tags": []
   },
   "source": [
    "#### 1. 웹페이지 분석 : URL"
   ]
  },
  {
   "cell_type": "code",
   "execution_count": 3,
   "id": "c1581d54",
   "metadata": {
    "tags": []
   },
   "outputs": [],
   "source": [
    "query = '삼성전자'\n",
    "url = f'https://search.naver.com/search.naver?query={query}'"
   ]
  },
  {
   "cell_type": "markdown",
   "id": "56e6ea93",
   "metadata": {},
   "source": [
    "#### 2. request(URL) > response : str(html)"
   ]
  },
  {
   "cell_type": "code",
   "execution_count": 4,
   "id": "ceda1c7b",
   "metadata": {
    "tags": []
   },
   "outputs": [
    {
     "data": {
      "text/plain": [
       "<Response [200]>"
      ]
     },
     "execution_count": 4,
     "metadata": {},
     "output_type": "execute_result"
    }
   ],
   "source": [
    "response = requests.get(url)\n",
    "response"
   ]
  },
  {
   "cell_type": "code",
   "execution_count": 6,
   "id": "59ce9bd6-4ae6-4792-ab0b-b0ffc38d92b0",
   "metadata": {
    "tags": []
   },
   "outputs": [
    {
     "data": {
      "text/plain": [
       "'<!doctype html> <html lang=\"ko\"><head> <meta charset=\"utf-8\"> <meta name=\"referrer\" content=\"always\">  <meta name=\"format-detection\" content=\"telephone=no,address=no,email=no\"> <meta name=\"viewport\" c'"
      ]
     },
     "execution_count": 6,
     "metadata": {},
     "output_type": "execute_result"
    }
   ],
   "source": [
    "response.text[:200]"
   ]
  },
  {
   "cell_type": "markdown",
   "id": "1e2acb8e",
   "metadata": {},
   "source": [
    "#### 3. str(html) > bs object"
   ]
  },
  {
   "cell_type": "code",
   "execution_count": 7,
   "id": "8736bc68",
   "metadata": {
    "tags": []
   },
   "outputs": [
    {
     "data": {
      "text/plain": [
       "bs4.BeautifulSoup"
      ]
     },
     "execution_count": 7,
     "metadata": {},
     "output_type": "execute_result"
    }
   ],
   "source": [
    "dom = BeautifulSoup(response.text, 'html.parser')\n",
    "type(dom)"
   ]
  },
  {
   "cell_type": "markdown",
   "id": "252cf193",
   "metadata": {},
   "source": [
    "#### 4. bs object > .select(css-selector), .select_one(css-selector) > str(text)"
   ]
  },
  {
   "cell_type": "code",
   "execution_count": 10,
   "id": "525c3274",
   "metadata": {
    "tags": []
   },
   "outputs": [
    {
     "name": "stdout",
     "output_type": "stream",
     "text": [
      "Help on method select_one in module bs4.element:\n",
      "\n",
      "select_one(selector, namespaces=None, **kwargs) method of bs4.BeautifulSoup instance\n",
      "    Perform a CSS selection operation on the current element.\n",
      "    \n",
      "    :param selector: A CSS selector.\n",
      "    \n",
      "    :param namespaces: A dictionary mapping namespace prefixes\n",
      "       used in the CSS selector to namespace URIs. By default,\n",
      "       Beautiful Soup will use the prefixes it encountered while\n",
      "       parsing the document.\n",
      "    \n",
      "    :param kwargs: Keyword arguments to be passed into Soup Sieve's\n",
      "       soupsieve.select() method.\n",
      "    \n",
      "    :return: A Tag.\n",
      "    :rtype: bs4.element.Tag\n",
      "\n"
     ]
    }
   ],
   "source": [
    "# dir(dom)\n",
    "# help(dom.select) # 모든 엘리먼트\n",
    "help(dom.select_one) # 맨 처음 엘리먼트"
   ]
  },
  {
   "cell_type": "code",
   "execution_count": 18,
   "id": "031b8566-374c-4a53-b4f1-94e6f6ff043f",
   "metadata": {
    "tags": []
   },
   "outputs": [
    {
     "data": {
      "text/plain": [
       "(10,\n",
       " <li class=\"item\"> <a class=\"keyword\" href=\"?where=nexearch&amp;query=%EC%82%BC%EC%84%B1%EC%A0%84%EC%9E%90%EC%A3%BC%EA%B0%80&amp;ie=utf8&amp;sm=tab_she&amp;qdt=0\" onclick=\"return goOtherCR(this, 'a=rsk_top*q.list1&amp;r=1&amp;u=' + urlencode(this.href))\"> <div class=\"tit\">삼성전자주가</div> </a> </li>)"
      ]
     },
     "execution_count": 18,
     "metadata": {},
     "output_type": "execute_result"
    }
   ],
   "source": [
    "elements = dom.select('.lst_related_srch > .item')\n",
    "len(elements), elements[0]"
   ]
  },
  {
   "cell_type": "markdown",
   "id": "1e9ebdd4",
   "metadata": {},
   "source": [
    "#### 5. str(text) > DataFrame"
   ]
  },
  {
   "cell_type": "code",
   "execution_count": 19,
   "id": "62e1ef05",
   "metadata": {
    "tags": []
   },
   "outputs": [
    {
     "data": {
      "text/plain": [
       "<li class=\"item\"> <a class=\"keyword\" href=\"?where=nexearch&amp;query=%EC%82%BC%EC%84%B1%EC%A0%84%EC%9E%90%EC%A3%BC%EA%B0%80&amp;ie=utf8&amp;sm=tab_she&amp;qdt=0\" onclick=\"return goOtherCR(this, 'a=rsk_top*q.list1&amp;r=1&amp;u=' + urlencode(this.href))\"> <div class=\"tit\">삼성전자주가</div> </a> </li>"
      ]
     },
     "execution_count": 19,
     "metadata": {},
     "output_type": "execute_result"
    }
   ],
   "source": [
    "element = elements[0]\n",
    "element"
   ]
  },
  {
   "cell_type": "code",
   "execution_count": 20,
   "id": "9aa5fac3-8cf0-459c-989b-38be4f7280b6",
   "metadata": {
    "tags": []
   },
   "outputs": [
    {
     "data": {
      "text/plain": [
       "'삼성전자주가'"
      ]
     },
     "execution_count": 20,
     "metadata": {},
     "output_type": "execute_result"
    }
   ],
   "source": [
    "keyword = element.select_one('.tit').text\n",
    "keyword"
   ]
  },
  {
   "cell_type": "code",
   "execution_count": 23,
   "id": "74bbc829-a0fe-43c1-b63c-2a573544f815",
   "metadata": {
    "tags": []
   },
   "outputs": [
    {
     "data": {
      "text/plain": [
       "['삼성전자주가',\n",
       " '삼성전자 배당금',\n",
       " '삼성전자서비스',\n",
       " '삼성전자주식',\n",
       " '오늘 삼성전자 주가',\n",
       " '삼성전자 배당금 지급일',\n",
       " '삼성전자몰',\n",
       " '삼성 전자레인지',\n",
       " '삼성전자 채용',\n",
       " '삼성전자 고객센터']"
      ]
     },
     "execution_count": 23,
     "metadata": {},
     "output_type": "execute_result"
    }
   ],
   "source": [
    "keywords = []\n",
    "for element in elements:\n",
    "    keyword = element.select_one('.tit').text\n",
    "    keywords.append(keyword)\n",
    "keywords"
   ]
  },
  {
   "cell_type": "code",
   "execution_count": 24,
   "id": "59d2ef24-ead7-4a77-a0a6-4a22ad51bf06",
   "metadata": {
    "tags": []
   },
   "outputs": [
    {
     "data": {
      "text/plain": [
       "['삼성전자주가',\n",
       " '삼성전자 배당금',\n",
       " '삼성전자서비스',\n",
       " '삼성전자주식',\n",
       " '오늘 삼성전자 주가',\n",
       " '삼성전자 배당금 지급일',\n",
       " '삼성전자몰',\n",
       " '삼성 전자레인지',\n",
       " '삼성전자 채용',\n",
       " '삼성전자 고객센터']"
      ]
     },
     "execution_count": 24,
     "metadata": {},
     "output_type": "execute_result"
    }
   ],
   "source": [
    "keywords = [element.select_one('.tit').text for element in elements]\n",
    "keywords"
   ]
  },
  {
   "cell_type": "code",
   "execution_count": 25,
   "id": "479fddd2-7ef5-40ed-98bf-e2d583fa52e7",
   "metadata": {
    "tags": []
   },
   "outputs": [
    {
     "data": {
      "text/plain": [
       "('삼성전자',\n",
       " ['삼성전자주가',\n",
       "  '삼성전자 배당금',\n",
       "  '삼성전자서비스',\n",
       "  '삼성전자주식',\n",
       "  '오늘 삼성전자 주가',\n",
       "  '삼성전자 배당금 지급일',\n",
       "  '삼성전자몰',\n",
       "  '삼성 전자레인지',\n",
       "  '삼성전자 채용',\n",
       "  '삼성전자 고객센터'])"
      ]
     },
     "execution_count": 25,
     "metadata": {},
     "output_type": "execute_result"
    }
   ],
   "source": [
    "# 데이터 프레임 만들기\n",
    "query, keywords"
   ]
  },
  {
   "cell_type": "code",
   "execution_count": 33,
   "id": "bfbe9f34-247c-422e-a4b8-b7a4e5264330",
   "metadata": {
    "tags": []
   },
   "outputs": [
    {
     "data": {
      "text/plain": [
       "datetime.datetime(2023, 8, 25, 12, 19, 23, 542)"
      ]
     },
     "execution_count": 33,
     "metadata": {},
     "output_type": "execute_result"
    }
   ],
   "source": [
    "from datetime import datetime\n",
    "datetime.now()"
   ]
  },
  {
   "cell_type": "code",
   "execution_count": 34,
   "id": "3f4a18d4-b98c-423f-8ae6-f8a6764a12b1",
   "metadata": {
    "tags": []
   },
   "outputs": [
    {
     "data": {
      "text/plain": [
       "'2023-08-25 12:20'"
      ]
     },
     "execution_count": 34,
     "metadata": {},
     "output_type": "execute_result"
    }
   ],
   "source": [
    "datetime.now().strftime('%Y-%m-%d %H:%M')"
   ]
  },
  {
   "cell_type": "code",
   "execution_count": 35,
   "id": "954c4298-d922-43bf-90ee-87db875fe3b6",
   "metadata": {
    "tags": []
   },
   "outputs": [
    {
     "data": {
      "text/plain": [
       "'2023-08-25 12:20'"
      ]
     },
     "execution_count": 35,
     "metadata": {},
     "output_type": "execute_result"
    }
   ],
   "source": [
    "now = datetime.now().strftime('%Y-%m-%d %H:%M')\n",
    "now"
   ]
  },
  {
   "cell_type": "code",
   "execution_count": 36,
   "id": "98b948f7-a523-4a8c-9c3f-0aaa3696d96e",
   "metadata": {
    "tags": []
   },
   "outputs": [],
   "source": [
    "df = pd.DataFrame({'keyword':keywords})\n",
    "df['query'] = query\n",
    "df['datetime'] = now"
   ]
  },
  {
   "cell_type": "code",
   "execution_count": 37,
   "id": "a7eea3f2-0685-4de1-af2a-0ad684b51d18",
   "metadata": {
    "tags": []
   },
   "outputs": [
    {
     "data": {
      "text/html": [
       "<div>\n",
       "<style scoped>\n",
       "    .dataframe tbody tr th:only-of-type {\n",
       "        vertical-align: middle;\n",
       "    }\n",
       "\n",
       "    .dataframe tbody tr th {\n",
       "        vertical-align: top;\n",
       "    }\n",
       "\n",
       "    .dataframe thead th {\n",
       "        text-align: right;\n",
       "    }\n",
       "</style>\n",
       "<table border=\"1\" class=\"dataframe\">\n",
       "  <thead>\n",
       "    <tr style=\"text-align: right;\">\n",
       "      <th></th>\n",
       "      <th>keyword</th>\n",
       "      <th>query</th>\n",
       "      <th>datetime</th>\n",
       "    </tr>\n",
       "  </thead>\n",
       "  <tbody>\n",
       "    <tr>\n",
       "      <th>0</th>\n",
       "      <td>삼성전자주가</td>\n",
       "      <td>삼성전자</td>\n",
       "      <td>2023-08-25 12:20</td>\n",
       "    </tr>\n",
       "    <tr>\n",
       "      <th>1</th>\n",
       "      <td>삼성전자 배당금</td>\n",
       "      <td>삼성전자</td>\n",
       "      <td>2023-08-25 12:20</td>\n",
       "    </tr>\n",
       "    <tr>\n",
       "      <th>2</th>\n",
       "      <td>삼성전자서비스</td>\n",
       "      <td>삼성전자</td>\n",
       "      <td>2023-08-25 12:20</td>\n",
       "    </tr>\n",
       "    <tr>\n",
       "      <th>3</th>\n",
       "      <td>삼성전자주식</td>\n",
       "      <td>삼성전자</td>\n",
       "      <td>2023-08-25 12:20</td>\n",
       "    </tr>\n",
       "    <tr>\n",
       "      <th>4</th>\n",
       "      <td>오늘 삼성전자 주가</td>\n",
       "      <td>삼성전자</td>\n",
       "      <td>2023-08-25 12:20</td>\n",
       "    </tr>\n",
       "    <tr>\n",
       "      <th>5</th>\n",
       "      <td>삼성전자 배당금 지급일</td>\n",
       "      <td>삼성전자</td>\n",
       "      <td>2023-08-25 12:20</td>\n",
       "    </tr>\n",
       "    <tr>\n",
       "      <th>6</th>\n",
       "      <td>삼성전자몰</td>\n",
       "      <td>삼성전자</td>\n",
       "      <td>2023-08-25 12:20</td>\n",
       "    </tr>\n",
       "    <tr>\n",
       "      <th>7</th>\n",
       "      <td>삼성 전자레인지</td>\n",
       "      <td>삼성전자</td>\n",
       "      <td>2023-08-25 12:20</td>\n",
       "    </tr>\n",
       "    <tr>\n",
       "      <th>8</th>\n",
       "      <td>삼성전자 채용</td>\n",
       "      <td>삼성전자</td>\n",
       "      <td>2023-08-25 12:20</td>\n",
       "    </tr>\n",
       "    <tr>\n",
       "      <th>9</th>\n",
       "      <td>삼성전자 고객센터</td>\n",
       "      <td>삼성전자</td>\n",
       "      <td>2023-08-25 12:20</td>\n",
       "    </tr>\n",
       "  </tbody>\n",
       "</table>\n",
       "</div>"
      ],
      "text/plain": [
       "        keyword query          datetime\n",
       "0        삼성전자주가  삼성전자  2023-08-25 12:20\n",
       "1      삼성전자 배당금  삼성전자  2023-08-25 12:20\n",
       "2       삼성전자서비스  삼성전자  2023-08-25 12:20\n",
       "3        삼성전자주식  삼성전자  2023-08-25 12:20\n",
       "4    오늘 삼성전자 주가  삼성전자  2023-08-25 12:20\n",
       "5  삼성전자 배당금 지급일  삼성전자  2023-08-25 12:20\n",
       "6         삼성전자몰  삼성전자  2023-08-25 12:20\n",
       "7      삼성 전자레인지  삼성전자  2023-08-25 12:20\n",
       "8       삼성전자 채용  삼성전자  2023-08-25 12:20\n",
       "9     삼성전자 고객센터  삼성전자  2023-08-25 12:20"
      ]
     },
     "execution_count": 37,
     "metadata": {},
     "output_type": "execute_result"
    }
   ],
   "source": [
    "df"
   ]
  },
  {
   "cell_type": "code",
   "execution_count": 38,
   "id": "ff854844-0f88-48e0-87d6-873e29df8068",
   "metadata": {
    "tags": []
   },
   "outputs": [],
   "source": [
    "def naver_relate_keywords(query):\n",
    "    \n",
    "    url = f'https://search.naver.com/search.naver?query={query}'\n",
    "    response = requests.get(url)\n",
    "    dom = BeautifulSoup(response.text, 'html.parser')\n",
    "    elements = dom.select('.lst_related_srch > .item')\n",
    "    keywords = [element.select_one('.tit').text for element in elements]\n",
    "    df = pd.DataFrame({'keyword':keywords})\n",
    "    df['query'] = query\n",
    "    df['datetime'] = datetime.now().strftime('%Y-%m-%d %H:%M')\n",
    "    return df"
   ]
  },
  {
   "cell_type": "code",
   "execution_count": 42,
   "id": "e9908ed0-31a5-4a35-8847-3db38b637ac6",
   "metadata": {
    "tags": []
   },
   "outputs": [],
   "source": [
    "df1 = naver_relate_keywords('삼성전자')"
   ]
  },
  {
   "cell_type": "code",
   "execution_count": 43,
   "id": "2a0f817a-ecd5-4fbb-a375-71eade43241a",
   "metadata": {
    "tags": []
   },
   "outputs": [],
   "source": [
    "df2 = naver_relate_keywords('KT')"
   ]
  },
  {
   "cell_type": "code",
   "execution_count": 44,
   "id": "dfc55460-b12c-4009-8a5c-324749142a0d",
   "metadata": {
    "tags": []
   },
   "outputs": [],
   "source": [
    "df3 = naver_relate_keywords('LG전자')"
   ]
  },
  {
   "cell_type": "code",
   "execution_count": 48,
   "id": "32e03d18-79ec-4336-bc7c-7f2c8b2793fd",
   "metadata": {
    "tags": []
   },
   "outputs": [
    {
     "data": {
      "text/html": [
       "<div>\n",
       "<style scoped>\n",
       "    .dataframe tbody tr th:only-of-type {\n",
       "        vertical-align: middle;\n",
       "    }\n",
       "\n",
       "    .dataframe tbody tr th {\n",
       "        vertical-align: top;\n",
       "    }\n",
       "\n",
       "    .dataframe thead th {\n",
       "        text-align: right;\n",
       "    }\n",
       "</style>\n",
       "<table border=\"1\" class=\"dataframe\">\n",
       "  <thead>\n",
       "    <tr style=\"text-align: right;\">\n",
       "      <th></th>\n",
       "      <th>keyword</th>\n",
       "      <th>query</th>\n",
       "      <th>datetime</th>\n",
       "    </tr>\n",
       "  </thead>\n",
       "  <tbody>\n",
       "    <tr>\n",
       "      <th>0</th>\n",
       "      <td>삼성전자주가</td>\n",
       "      <td>삼성전자</td>\n",
       "      <td>2023-08-25 12:24</td>\n",
       "    </tr>\n",
       "    <tr>\n",
       "      <th>1</th>\n",
       "      <td>삼성전자 배당금</td>\n",
       "      <td>삼성전자</td>\n",
       "      <td>2023-08-25 12:24</td>\n",
       "    </tr>\n",
       "    <tr>\n",
       "      <th>2</th>\n",
       "      <td>삼성전자서비스</td>\n",
       "      <td>삼성전자</td>\n",
       "      <td>2023-08-25 12:24</td>\n",
       "    </tr>\n",
       "    <tr>\n",
       "      <th>3</th>\n",
       "      <td>삼성전자주식</td>\n",
       "      <td>삼성전자</td>\n",
       "      <td>2023-08-25 12:24</td>\n",
       "    </tr>\n",
       "    <tr>\n",
       "      <th>4</th>\n",
       "      <td>오늘 삼성전자 주가</td>\n",
       "      <td>삼성전자</td>\n",
       "      <td>2023-08-25 12:24</td>\n",
       "    </tr>\n",
       "    <tr>\n",
       "      <th>5</th>\n",
       "      <td>삼성전자 배당금 지급일</td>\n",
       "      <td>삼성전자</td>\n",
       "      <td>2023-08-25 12:24</td>\n",
       "    </tr>\n",
       "    <tr>\n",
       "      <th>6</th>\n",
       "      <td>삼성전자몰</td>\n",
       "      <td>삼성전자</td>\n",
       "      <td>2023-08-25 12:24</td>\n",
       "    </tr>\n",
       "    <tr>\n",
       "      <th>7</th>\n",
       "      <td>삼성 전자레인지</td>\n",
       "      <td>삼성전자</td>\n",
       "      <td>2023-08-25 12:24</td>\n",
       "    </tr>\n",
       "    <tr>\n",
       "      <th>8</th>\n",
       "      <td>삼성전자 채용</td>\n",
       "      <td>삼성전자</td>\n",
       "      <td>2023-08-25 12:24</td>\n",
       "    </tr>\n",
       "    <tr>\n",
       "      <th>9</th>\n",
       "      <td>삼성전자 고객센터</td>\n",
       "      <td>삼성전자</td>\n",
       "      <td>2023-08-25 12:24</td>\n",
       "    </tr>\n",
       "    <tr>\n",
       "      <th>10</th>\n",
       "      <td>KT고객센터</td>\n",
       "      <td>KT</td>\n",
       "      <td>2023-08-25 12:24</td>\n",
       "    </tr>\n",
       "    <tr>\n",
       "      <th>11</th>\n",
       "      <td>날씨</td>\n",
       "      <td>KT</td>\n",
       "      <td>2023-08-25 12:24</td>\n",
       "    </tr>\n",
       "    <tr>\n",
       "      <th>12</th>\n",
       "      <td>KT인터넷</td>\n",
       "      <td>KT</td>\n",
       "      <td>2023-08-25 12:24</td>\n",
       "    </tr>\n",
       "    <tr>\n",
       "      <th>13</th>\n",
       "      <td>ktwiz</td>\n",
       "      <td>KT</td>\n",
       "      <td>2023-08-25 12:24</td>\n",
       "    </tr>\n",
       "    <tr>\n",
       "      <th>14</th>\n",
       "      <td>쿠팡</td>\n",
       "      <td>KT</td>\n",
       "      <td>2023-08-25 12:24</td>\n",
       "    </tr>\n",
       "    <tr>\n",
       "      <th>15</th>\n",
       "      <td>kt 야구</td>\n",
       "      <td>KT</td>\n",
       "      <td>2023-08-25 12:24</td>\n",
       "    </tr>\n",
       "    <tr>\n",
       "      <th>16</th>\n",
       "      <td>ky</td>\n",
       "      <td>KT</td>\n",
       "      <td>2023-08-25 12:24</td>\n",
       "    </tr>\n",
       "    <tr>\n",
       "      <th>17</th>\n",
       "      <td>KT위즈</td>\n",
       "      <td>KT</td>\n",
       "      <td>2023-08-25 12:24</td>\n",
       "    </tr>\n",
       "    <tr>\n",
       "      <th>18</th>\n",
       "      <td>skt</td>\n",
       "      <td>KT</td>\n",
       "      <td>2023-08-25 12:24</td>\n",
       "    </tr>\n",
       "    <tr>\n",
       "      <th>19</th>\n",
       "      <td>kr</td>\n",
       "      <td>KT</td>\n",
       "      <td>2023-08-25 12:24</td>\n",
       "    </tr>\n",
       "    <tr>\n",
       "      <th>20</th>\n",
       "      <td>lg전자 주가</td>\n",
       "      <td>LG전자</td>\n",
       "      <td>2023-08-25 12:24</td>\n",
       "    </tr>\n",
       "    <tr>\n",
       "      <th>21</th>\n",
       "      <td>lg전자 서비스센터 전화번호</td>\n",
       "      <td>LG전자</td>\n",
       "      <td>2023-08-25 12:24</td>\n",
       "    </tr>\n",
       "    <tr>\n",
       "      <th>22</th>\n",
       "      <td>lg전자 베스트샵</td>\n",
       "      <td>LG전자</td>\n",
       "      <td>2023-08-25 12:24</td>\n",
       "    </tr>\n",
       "    <tr>\n",
       "      <th>23</th>\n",
       "      <td>lg전자 고객센터</td>\n",
       "      <td>LG전자</td>\n",
       "      <td>2023-08-25 12:24</td>\n",
       "    </tr>\n",
       "    <tr>\n",
       "      <th>24</th>\n",
       "      <td>lg 전자레인지</td>\n",
       "      <td>LG전자</td>\n",
       "      <td>2023-08-25 12:24</td>\n",
       "    </tr>\n",
       "    <tr>\n",
       "      <th>25</th>\n",
       "      <td>lg전자 에어컨 서비스센터</td>\n",
       "      <td>LG전자</td>\n",
       "      <td>2023-08-25 12:24</td>\n",
       "    </tr>\n",
       "    <tr>\n",
       "      <th>26</th>\n",
       "      <td>lg전자 as</td>\n",
       "      <td>LG전자</td>\n",
       "      <td>2023-08-25 12:24</td>\n",
       "    </tr>\n",
       "    <tr>\n",
       "      <th>27</th>\n",
       "      <td>lg전자 에어컨</td>\n",
       "      <td>LG전자</td>\n",
       "      <td>2023-08-25 12:24</td>\n",
       "    </tr>\n",
       "    <tr>\n",
       "      <th>28</th>\n",
       "      <td>lg전자 서비스센터 예약</td>\n",
       "      <td>LG전자</td>\n",
       "      <td>2023-08-25 12:24</td>\n",
       "    </tr>\n",
       "    <tr>\n",
       "      <th>29</th>\n",
       "      <td>lg전자렌지</td>\n",
       "      <td>LG전자</td>\n",
       "      <td>2023-08-25 12:24</td>\n",
       "    </tr>\n",
       "  </tbody>\n",
       "</table>\n",
       "</div>"
      ],
      "text/plain": [
       "            keyword query          datetime\n",
       "0            삼성전자주가  삼성전자  2023-08-25 12:24\n",
       "1          삼성전자 배당금  삼성전자  2023-08-25 12:24\n",
       "2           삼성전자서비스  삼성전자  2023-08-25 12:24\n",
       "3            삼성전자주식  삼성전자  2023-08-25 12:24\n",
       "4        오늘 삼성전자 주가  삼성전자  2023-08-25 12:24\n",
       "5      삼성전자 배당금 지급일  삼성전자  2023-08-25 12:24\n",
       "6             삼성전자몰  삼성전자  2023-08-25 12:24\n",
       "7          삼성 전자레인지  삼성전자  2023-08-25 12:24\n",
       "8           삼성전자 채용  삼성전자  2023-08-25 12:24\n",
       "9         삼성전자 고객센터  삼성전자  2023-08-25 12:24\n",
       "10           KT고객센터    KT  2023-08-25 12:24\n",
       "11               날씨    KT  2023-08-25 12:24\n",
       "12            KT인터넷    KT  2023-08-25 12:24\n",
       "13            ktwiz    KT  2023-08-25 12:24\n",
       "14               쿠팡    KT  2023-08-25 12:24\n",
       "15            kt 야구    KT  2023-08-25 12:24\n",
       "16               ky    KT  2023-08-25 12:24\n",
       "17             KT위즈    KT  2023-08-25 12:24\n",
       "18              skt    KT  2023-08-25 12:24\n",
       "19               kr    KT  2023-08-25 12:24\n",
       "20          lg전자 주가  LG전자  2023-08-25 12:24\n",
       "21  lg전자 서비스센터 전화번호  LG전자  2023-08-25 12:24\n",
       "22        lg전자 베스트샵  LG전자  2023-08-25 12:24\n",
       "23        lg전자 고객센터  LG전자  2023-08-25 12:24\n",
       "24         lg 전자레인지  LG전자  2023-08-25 12:24\n",
       "25   lg전자 에어컨 서비스센터  LG전자  2023-08-25 12:24\n",
       "26          lg전자 as  LG전자  2023-08-25 12:24\n",
       "27         lg전자 에어컨  LG전자  2023-08-25 12:24\n",
       "28    lg전자 서비스센터 예약  LG전자  2023-08-25 12:24\n",
       "29           lg전자렌지  LG전자  2023-08-25 12:24"
      ]
     },
     "execution_count": 48,
     "metadata": {},
     "output_type": "execute_result"
    }
   ],
   "source": [
    "pd.concat([df1, df2, df3], axis=0, ignore_index=True)"
   ]
  },
  {
   "cell_type": "code",
   "execution_count": null,
   "id": "3c0da676-57c7-4ae7-87a7-f579e006d139",
   "metadata": {},
   "outputs": [],
   "source": []
  }
 ],
 "metadata": {
  "kernelspec": {
   "display_name": "Python 3 (ipykernel)",
   "language": "python",
   "name": "python3"
  },
  "language_info": {
   "codemirror_mode": {
    "name": "ipython",
    "version": 3
   },
   "file_extension": ".py",
   "mimetype": "text/x-python",
   "name": "python",
   "nbconvert_exporter": "python",
   "pygments_lexer": "ipython3",
   "version": "3.11.3"
  },
  "toc": {
   "base_numbering": 1,
   "nav_menu": {},
   "number_sections": false,
   "sideBar": true,
   "skip_h1_title": false,
   "title_cell": "Table of Contents",
   "title_sidebar": "Contents",
   "toc_cell": false,
   "toc_position": {},
   "toc_section_display": true,
   "toc_window_display": false
  }
 },
 "nbformat": 4,
 "nbformat_minor": 5
}
